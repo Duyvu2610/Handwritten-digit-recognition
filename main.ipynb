{
 "cells": [
  {
   "cell_type": "code",
   "execution_count": 9,
   "metadata": {},
   "outputs": [],
   "source": [
    "from keras.utils import to_categorical\n",
    "from keras.models import Sequential\n",
    "from keras.layers import MaxPool2D, Dense, Conv2D, Flatten\n",
    "import matplotlib.pyplot as plt\n",
    "from keras.datasets import mnist\n",
    "from tensorflow import keras"
   ]
  },
  {
   "cell_type": "code",
   "execution_count": 10,
   "metadata": {},
   "outputs": [],
   "source": [
    "(x_train, y_train), (x_test, y_test) = mnist.load_data()"
   ]
  },
  {
   "cell_type": "code",
   "execution_count": 13,
   "metadata": {},
   "outputs": [
    {
     "data": {
      "text/plain": [
       "<matplotlib.image.AxesImage at 0x125c736de40>"
      ]
     },
     "execution_count": 13,
     "metadata": {},
     "output_type": "execute_result"
    },
    {
     "data": {
      "image/png": "[encoded data removed]",
      "text/plain": [
       "<Figure size 640x480 with 1 Axes>"
      ]
     },
     "metadata": {},
     "output_type": "display_data"
    }
   ],
   "source": [
    "plt.imshow(x_train[0])"
   ]
  },
  {
   "cell_type": "code",
   "execution_count": 15,
   "metadata": {},
   "outputs": [
    {
     "data": {
      "text/plain": [
       "5"
      ]
     },
     "execution_count": 15,
     "metadata": {},
     "output_type": "execute_result"
    }
   ],
   "source": [
    "y_train[0]"
   ]
  },
  {
   "cell_type": "code",
   "execution_count": 3,
   "metadata": {},
   "outputs": [],
   "source": [
    "\n",
    "x_train = x_train.reshape(60000,28,28,1)\n",
    "x_test = x_test.reshape(10000,28,28,1)"
   ]
  },
  {
   "cell_type": "code",
   "execution_count": 4,
   "metadata": {},
   "outputs": [
    {
     "data": {
      "text/plain": [
       "array([0., 0., 0., 0., 0., 1., 0., 0., 0., 0.], dtype=float32)"
      ]
     },
     "execution_count": 4,
     "metadata": {},
     "output_type": "execute_result"
    }
   ],
   "source": [
    "# hamf softmax phải là 1 vecto  \n",
    "y_train = to_categorical(y_train)\n",
    "y_test = to_categorical(y_test)\n",
    "y_train[0]"
   ]
  },
  {
   "cell_type": "code",
   "execution_count": 5,
   "metadata": {},
   "outputs": [],
   "source": [
    "model = keras.Sequential()\n",
    "# convolution layer tạo ra 1 kernel trượt trên ảnh để trích xuất ra đặc trưng của ảnh đó. các số trong kernel sẽ được học trong quá trình train chứ 0 tạo trước\n",
    "# số lượng kernel chính là số lượng channel của đầu ra\n",
    "# 64 kernel mỗi kenel cỡ 3x3 \n",
    "model.add(Conv2D(64, kernel_size=(3,3), activation='relu', input_shape = (28,28,1), padding='same'))\n",
    "model.add(MaxPool2D(pool_size=(2,2), strides=2))\n",
    "# padding = same: giữ lại kích cỡ giống như ảnh ban đàu nhưng bản chất là kích cỡ thật đã bị thu nhỏ lại và phând còn lại chúng ta chuyển về 0 hết\n",
    "model.add(Conv2D(32, kernel_size=(3,3), activation='relu', padding='same'))\n",
    "# pool size giống kernel size: trượt qua chỉ lấy phần tử lớn nhất mục đích là trích xuất đặc trưng lớn nhất và bỏ qua các phần ko liền quan\n",
    "model.add(MaxPool2D(pool_size=(2,2), strides=2))\n",
    "# đầu vào của fully connected network là 1 vector chứ ko phải ma trận \n",
    "# flatten: hàm duỗi ma trận thành vecto\n",
    "model.add(Flatten())\n",
    "# hàm dense \n",
    "# yêu cầu có hàm activation dau hàm dense\n",
    "# hàm softmax để ra được lớp nào có xác suất lớn nhất\n",
    "model.add(Dense(10, activation='softmax'))"
   ]
  },
  {
   "cell_type": "code",
   "execution_count": 6,
   "metadata": {},
   "outputs": [
    {
     "name": "stdout",
     "output_type": "stream",
     "text": [
      "Model: \"sequential\"\n",
      "_________________________________________________________________\n",
      " Layer (type)                Output Shape              Param #   \n",
      "=================================================================\n",
      " conv2d (Conv2D)             (None, 28, 28, 64)        640       \n",
      "                                                                 \n",
      " max_pooling2d (MaxPooling2D  (None, 14, 14, 64)       0         \n",
      " )                                                               \n",
      "                                                                 \n",
      " conv2d_1 (Conv2D)           (None, 14, 14, 32)        18464     \n",
      "                                                                 \n",
      " max_pooling2d_1 (MaxPooling  (None, 7, 7, 32)         0         \n",
      " 2D)                                                             \n",
      "                                                                 \n",
      " flatten (Flatten)           (None, 1568)              0         \n",
      "                                                                 \n",
      " dense (Dense)               (None, 10)                15690     \n",
      "                                                                 \n",
      "=================================================================\n",
      "Total params: 34,794\n",
      "Trainable params: 34,794\n",
      "Non-trainable params: 0\n",
      "_________________________________________________________________\n"
     ]
    }
   ],
   "source": [
    "model.compile(optimizer='adam', loss='categorical_crossentropy', metrics=['accuracy'])\n",
    "# kiểm tra cấu trúc của modal\n",
    "model.summary()"
   ]
  },
  {
   "cell_type": "code",
   "execution_count": 7,
   "metadata": {},
   "outputs": [
    {
     "name": "stdout",
     "output_type": "stream",
     "text": [
      "Epoch 1/3\n",
      "1875/1875 [==============================] - 37s 20ms/step - loss: 0.2775 - accuracy: 0.9434 - val_loss: 0.0838 - val_accuracy: 0.9738\n",
      "Epoch 2/3\n",
      "1875/1875 [==============================] - 37s 20ms/step - loss: 0.0730 - accuracy: 0.9781 - val_loss: 0.0541 - val_accuracy: 0.9830\n",
      "Epoch 3/3\n",
      "1875/1875 [==============================] - 37s 19ms/step - loss: 0.0614 - accuracy: 0.9809 - val_loss: 0.0629 - val_accuracy: 0.9809\n"
     ]
    },
    {
     "data": {
      "text/plain": [
       "<keras.callbacks.History at 0x125c96af3a0>"
      ]
     },
     "execution_count": 7,
     "metadata": {},
     "output_type": "execute_result"
    }
   ],
   "source": [
    "model.fit(x_train, y_train, validation_data=(x_test, y_test), epochs= 3)"
   ]
  },
  {
   "cell_type": "code",
   "execution_count": 8,
   "metadata": {},
   "outputs": [
    {
     "name": "stdout",
     "output_type": "stream",
     "text": [
      "1/1 [==============================] - 0s 84ms/step\n"
     ]
    },
    {
     "data": {
      "text/plain": [
       "array([[1.00000000e+00, 1.01572266e-11, 1.51254458e-08, 4.45375377e-12,\n",
       "        8.45523825e-12, 5.99072666e-11, 3.62975339e-09, 1.45544066e-08,\n",
       "        1.61166136e-09, 4.27635427e-10],\n",
       "       [3.44185901e-05, 1.30659220e-10, 2.29342906e-10, 1.04502691e-11,\n",
       "        1.70591417e-08, 4.07565253e-08, 9.99963641e-01, 2.39205045e-10,\n",
       "        1.94875224e-06, 5.52786011e-11],\n",
       "       [2.35153443e-08, 1.99368122e-09, 1.83646645e-08, 5.59445198e-07,\n",
       "        8.22798908e-03, 8.21598235e-07, 2.08983303e-10, 5.40323788e-04,\n",
       "        2.04249664e-05, 9.91209865e-01],\n",
       "       [1.00000000e+00, 1.85421123e-13, 2.71720157e-09, 2.19571705e-11,\n",
       "        1.27133221e-10, 3.77791887e-09, 2.38800402e-09, 2.12135678e-08,\n",
       "        6.40555164e-10, 3.88704802e-09],\n",
       "       [8.38759229e-10, 9.99992371e-01, 4.14126475e-08, 5.10799623e-07,\n",
       "        7.54963992e-07, 6.51617142e-07, 7.41808348e-09, 1.05706526e-07,\n",
       "        5.46811225e-06, 1.76930953e-07],\n",
       "       [8.78807389e-14, 3.98583744e-08, 1.54470603e-11, 4.99606016e-04,\n",
       "        4.42254957e-13, 9.99500394e-01, 5.06275195e-11, 4.26123442e-10,\n",
       "        3.91332255e-09, 2.10381544e-13],\n",
       "       [3.57704022e-09, 3.82041010e-10, 2.10453592e-08, 5.90219251e-08,\n",
       "        6.37741876e-04, 4.99074879e-08, 3.93603171e-11, 5.56196901e-04,\n",
       "        1.02000113e-05, 9.98795629e-01],\n",
       "       [3.66208130e-09, 5.36560307e-09, 1.87338867e-06, 3.06270920e-07,\n",
       "        5.69367990e-11, 2.50089480e-11, 6.71592434e-15, 9.99997735e-01,\n",
       "        3.78153758e-12, 7.94730592e-09],\n",
       "       [6.39237184e-03, 1.38889343e-04, 1.57200440e-04, 2.34563679e-01,\n",
       "        4.75023735e-05, 7.57804096e-01, 8.16158659e-04, 2.34315326e-06,\n",
       "        7.72646454e-05, 4.88711237e-07],\n",
       "       [8.28851046e-15, 8.11134093e-09, 7.45544348e-10, 2.18122916e-11,\n",
       "        9.99994516e-01, 1.26645569e-10, 1.66827557e-13, 5.52762822e-06,\n",
       "        3.48064633e-10, 4.02984446e-09]], dtype=float32)"
      ]
     },
     "execution_count": 8,
     "metadata": {},
     "output_type": "execute_result"
    }
   ],
   "source": [
    "y_hat = model.predict(x_test[10:20])\n",
    "y_hat"
   ]
  },
  {
   "cell_type": "code",
   "execution_count": 12,
   "metadata": {},
   "outputs": [
    {
     "data": {
      "text/plain": [
       "array([0, 6, 9, 0, 1, 5, 9, 7, 3, 4], dtype=int64)"
      ]
     },
     "execution_count": 12,
     "metadata": {},
     "output_type": "execute_result"
    }
   ],
   "source": [
    "y_label = np.argmax(y_hat, axis=1)\n",
    "y_label"
   ]
  },
  {
   "cell_type": "code",
   "execution_count": 17,
   "metadata": {},
   "outputs": [
    {
     "data": {
      "text/plain": [
       "<matplotlib.image.AxesImage at 0x137c5af6980>"
      ]
     },
     "execution_count": 17,
     "metadata": {},
     "output_type": "execute_result"
    },
    {
     "data": {
      "image/png": "[encoded data removed]",
      "text/plain": [
       "<Figure size 640x480 with 1 Axes>"
      ]
     },
     "metadata": {},
     "output_type": "display_data"
    }
   ],
   "source": [
    "(x_train, y_train), (x_test1, y_test) = mnist.load_data()\n",
    "plt.imshow(x_test1[19])\n"
   ]
  },
  {
   "cell_type": "code",
   "execution_count": 18,
   "metadata": {},
   "outputs": [],
   "source": [
    "model.save(\"mnist3.hdf5\")"
   ]
  }
 ],
 "metadata": {
  "kernelspec": {
   "display_name": "Python 3.10.4 64-bit",
   "language": "python",
   "name": "python3"
  },
  "language_info": {
   "codemirror_mode": {
    "name": "ipython",
    "version": 3
   },
   "file_extension": ".py",
   "mimetype": "text/x-python",
   "name": "python",
   "nbconvert_exporter": "python",
   "pygments_lexer": "ipython3",
   "version": "3.10.4"
  },
  "orig_nbformat": 4,
  "vscode": {
   "interpreter": {
    "hash": "229cdfb8eedfa4964725b7eb0da8d7a63b25d97a6ab808f09bd6b506844c0629"
   }
  }
 },
 "nbformat": 4,
 "nbformat_minor": 2
}
