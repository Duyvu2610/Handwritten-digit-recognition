{
 "cells": [
  {
   "cell_type": "code",
   "execution_count": 70,
   "metadata": {},
   "outputs": [],
   "source": [
    "from keras.utils import to_categorical\n",
    "from keras.models import Sequential\n",
    "from keras.layers import MaxPool2D, Dense, Conv2D, Flatten\n",
    "import matplotlib.pyplot as plt\n",
    "from keras.datasets import mnist\n",
    "import numpy as np\n",
    "from tensorflow import keras"
   ]
  },
  {
   "cell_type": "code",
   "execution_count": 64,
   "metadata": {},
   "outputs": [],
   "source": [
    "(x_train, y_train), (x_test, y_test) = mnist.load_data()"
   ]
  },
  {
   "cell_type": "code",
   "execution_count": 65,
   "metadata": {},
   "outputs": [
    {
     "data": {
      "text/plain": [
       "<matplotlib.image.AxesImage at 0x187bc509c30>"
      ]
     },
     "execution_count": 65,
     "metadata": {},
     "output_type": "execute_result"
    },
    {
     "data": {
      "image/png": "[encoded data removed]",
      "text/plain": [
       "<Figure size 640x480 with 1 Axes>"
      ]
     },
     "metadata": {},
     "output_type": "display_data"
    }
   ],
   "source": [
    "plt.imshow(x_train[0])"
   ]
  },
  {
   "cell_type": "code",
   "execution_count": 66,
   "metadata": {},
   "outputs": [],
   "source": [
    "x_train = x_train.reshape(60000,28,28,1)\n",
    "x_test = x_test.reshape(10000,28,28,1)"
   ]
  },
  {
   "cell_type": "code",
   "execution_count": 67,
   "metadata": {},
   "outputs": [
    {
     "data": {
      "text/plain": [
       "array([0., 0., 0., 0., 0., 1., 0., 0., 0., 0.], dtype=float32)"
      ]
     },
     "execution_count": 67,
     "metadata": {},
     "output_type": "execute_result"
    }
   ],
   "source": [
    "y_train = to_categorical(y_train)\n",
    "y_test = to_categorical(y_test)\n",
    "y_train[0]"
   ]
  },
  {
   "cell_type": "code",
   "execution_count": 73,
   "metadata": {},
   "outputs": [],
   "source": [
    "model = keras.Sequential()\n",
    "model.add(Conv2D(64, kernel_size=(3,3), activation='relu', input_shape = (28,28,1), padding='same'))\n",
    "model.add(MaxPool2D(pool_size=(2,2), strides=2))\n",
    "model.add(Conv2D(32, kernel_size=(3,3), activation='relu', padding='same'))\n",
    "model.add(MaxPool2D(pool_size=(2,2), strides=2))\n",
    "model.add(Flatten())\n",
    "model.add(Dense(10, activation='softmax'))\n"
   ]
  },
  {
   "cell_type": "code",
   "execution_count": 74,
   "metadata": {},
   "outputs": [
    {
     "name": "stdout",
     "output_type": "stream",
     "text": [
      "Model: \"sequential_8\"\n",
      "_________________________________________________________________\n",
      " Layer (type)                Output Shape              Param #   \n",
      "=================================================================\n",
      " conv2d_23 (Conv2D)          (None, 28, 28, 64)        640       \n",
      "                                                                 \n",
      " max_pooling2d_16 (MaxPoolin  (None, 14, 14, 64)       0         \n",
      " g2D)                                                            \n",
      "                                                                 \n",
      " conv2d_24 (Conv2D)          (None, 14, 14, 32)        18464     \n",
      "                                                                 \n",
      " max_pooling2d_17 (MaxPoolin  (None, 7, 7, 32)         0         \n",
      " g2D)                                                            \n",
      "                                                                 \n",
      " flatten_7 (Flatten)         (None, 1568)              0         \n",
      "                                                                 \n",
      " dense_13 (Dense)            (None, 10)                15690     \n",
      "                                                                 \n",
      "=================================================================\n",
      "Total params: 34,794\n",
      "Trainable params: 34,794\n",
      "Non-trainable params: 0\n",
      "_________________________________________________________________\n"
     ]
    }
   ],
   "source": [
    "model.compile(optimizer='adam', loss='categorical_crossentropy', metrics=['accuracy'])\n",
    "model.summary()"
   ]
  },
  {
   "cell_type": "code",
   "execution_count": 75,
   "metadata": {},
   "outputs": [
    {
     "name": "stdout",
     "output_type": "stream",
     "text": [
      "Epoch 1/3\n",
      "1875/1875 [==============================] - 37s 20ms/step - loss: 0.2710 - accuracy: 0.9465 - val_loss: 0.0697 - val_accuracy: 0.9767\n",
      "Epoch 2/3\n",
      "1875/1875 [==============================] - 41s 22ms/step - loss: 0.0736 - accuracy: 0.9791 - val_loss: 0.0521 - val_accuracy: 0.9826\n",
      "Epoch 3/3\n",
      "1875/1875 [==============================] - 42s 22ms/step - loss: 0.0546 - accuracy: 0.9840 - val_loss: 0.0533 - val_accuracy: 0.9844\n"
     ]
    },
    {
     "data": {
      "text/plain": [
       "<keras.callbacks.History at 0x187bc5ddae0>"
      ]
     },
     "execution_count": 75,
     "metadata": {},
     "output_type": "execute_result"
    }
   ],
   "source": [
    "model.fit(x_train, y_train, validation_data=(x_test, y_test), epochs= 3)"
   ]
  },
  {
   "cell_type": "code",
   "execution_count": 122,
   "metadata": {},
   "outputs": [
    {
     "name": "stdout",
     "output_type": "stream",
     "text": [
      "1/1 [==============================] - 0s 24ms/step\n"
     ]
    },
    {
     "data": {
      "text/plain": [
       "array([[9.9999928e-01, 3.6795449e-11, 5.6897380e-07, 1.3849295e-10,\n",
       "        1.1792500e-10, 2.2468321e-09, 1.1015169e-08, 2.4778957e-10,\n",
       "        4.3595179e-08, 5.6887476e-08],\n",
       "       [4.0810239e-05, 3.4882064e-10, 8.2694129e-11, 1.2554894e-14,\n",
       "        2.4618549e-10, 1.7813591e-11, 9.9995923e-01, 4.5154817e-12,\n",
       "        9.5144781e-11, 9.9146570e-13],\n",
       "       [9.1806987e-12, 2.7656675e-12, 3.8823658e-12, 2.3888638e-06,\n",
       "        1.7816777e-03, 1.2156957e-07, 6.3466010e-11, 1.1745447e-08,\n",
       "        3.4315131e-06, 9.9821234e-01],\n",
       "       [1.0000000e+00, 1.8250752e-12, 2.1956650e-09, 1.9026991e-13,\n",
       "        2.4460087e-10, 2.6707672e-09, 4.6212186e-08, 1.8130397e-08,\n",
       "        9.4391339e-10, 2.2260778e-08],\n",
       "       [6.3866075e-08, 9.9999356e-01, 3.1432972e-08, 3.3178028e-06,\n",
       "        8.8009818e-07, 5.2197105e-08, 3.9004506e-09, 3.3883456e-08,\n",
       "        1.9262072e-06, 2.4478496e-07],\n",
       "       [9.8104130e-17, 4.8519133e-10, 2.2131285e-11, 1.7675228e-06,\n",
       "        6.6608970e-14, 9.9999821e-01, 4.0465122e-16, 4.2932009e-09,\n",
       "        9.2445574e-12, 3.6408216e-12],\n",
       "       [1.7142934e-10, 3.6139985e-13, 4.2907609e-14, 6.7636807e-10,\n",
       "        3.4796154e-05, 9.5985179e-08, 3.0316773e-12, 6.4544330e-09,\n",
       "        2.4310298e-06, 9.9996269e-01],\n",
       "       [3.4210128e-09, 3.5109381e-11, 2.9195680e-06, 1.3217514e-05,\n",
       "        4.4122699e-11, 3.5145309e-10, 1.0570759e-15, 9.9998367e-01,\n",
       "        7.3664505e-11, 1.3546308e-07],\n",
       "       [5.7459006e-06, 1.8513252e-05, 2.0035256e-03, 9.6006894e-01,\n",
       "        5.3689668e-08, 3.5108559e-02, 3.1776183e-06, 1.8230912e-06,\n",
       "        2.7891411e-03, 5.1824384e-07],\n",
       "       [5.8277376e-17, 2.1419559e-09, 4.5305279e-12, 2.0023655e-12,\n",
       "        9.9999177e-01, 3.7349172e-11, 5.3616494e-14, 8.1974486e-06,\n",
       "        7.1827419e-11, 1.2450585e-11]], dtype=float32)"
      ]
     },
     "execution_count": 122,
     "metadata": {},
     "output_type": "execute_result"
    }
   ],
   "source": [
    "y_hat = model.predict(x_test[10:20])\n",
    "y_hat"
   ]
  },
  {
   "cell_type": "code",
   "execution_count": 123,
   "metadata": {},
   "outputs": [
    {
     "data": {
      "text/plain": [
       "array([0, 6, 9, 0, 1, 5, 9, 7, 3, 4], dtype=int64)"
      ]
     },
     "execution_count": 123,
     "metadata": {},
     "output_type": "execute_result"
    }
   ],
   "source": [
    "y_label = np.argmax(y_hat, axis=1)\n",
    "y_label"
   ]
  },
  {
   "cell_type": "code",
   "execution_count": 126,
   "metadata": {},
   "outputs": [
    {
     "data": {
      "text/plain": [
       "<matplotlib.image.AxesImage at 0x187bcdace80>"
      ]
     },
     "execution_count": 126,
     "metadata": {},
     "output_type": "execute_result"
    },
    {
     "data": {
      "image/png": "[encoded data removed]",
      "text/plain": [
       "<Figure size 640x480 with 1 Axes>"
      ]
     },
     "metadata": {},
     "output_type": "display_data"
    }
   ],
   "source": [
    "(x_train, y_train), (x_test1, y_test) = mnist.load_data()\n",
    "plt.imshow(x_test1[14])\n"
   ]
  },
  {
   "cell_type": "code",
   "execution_count": 95,
   "metadata": {},
   "outputs": [],
   "source": [
    "model.save(\"mnist2.hdf5\")"
   ]
  },
  {
   "cell_type": "code",
   "execution_count": 127,
   "metadata": {},
   "outputs": [],
   "source": [
    "# import tensorflow as tf\n",
    "# img = tf.keras.utils.load_img(path=\"6.jpeg\", color_mode= 'grayscale')\n",
    "# img = tf.keras.utils.img_to_array(img)\n",
    "# plt.imshow(tf.keras.utils.array_to_img(img), cmap=\"gray\")\n",
    "# test_img = img.reshape((1, 28, 28, 1))\n",
    "# # model.predict(test_img)\n",
    "# # img_class = model.predict_classes(test_img)\n",
    "# img_class = np.argmax(model.predict(test_img), axis = 1)\n",
    "# prediction = img_class[0]\n",
    "# prediction"
   ]
  }
 ],
 "metadata": {
  "kernelspec": {
   "display_name": "Python 3.10.4 64-bit",
   "language": "python",
   "name": "python3"
  },
  "language_info": {
   "codemirror_mode": {
    "name": "ipython",
    "version": 3
   },
   "file_extension": ".py",
   "mimetype": "text/x-python",
   "name": "python",
   "nbconvert_exporter": "python",
   "pygments_lexer": "ipython3",
   "version": "3.10.4"
  },
  "orig_nbformat": 4,
  "vscode": {
   "interpreter": {
    "hash": "229cdfb8eedfa4964725b7eb0da8d7a63b25d97a6ab808f09bd6b506844c0629"
   }
  }
 },
 "nbformat": 4,
 "nbformat_minor": 2
}
