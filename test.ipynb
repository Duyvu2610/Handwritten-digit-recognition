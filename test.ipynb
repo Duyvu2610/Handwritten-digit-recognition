{
 "cells": [
  {
   "cell_type": "code",
   "execution_count": 70,
   "metadata": {},
   "outputs": [],
   "source": [
    "from keras.utils import to_categorical\n",
    "from keras.models import Sequential\n",
    "from keras.layers import MaxPool2D, Dense, Conv2D, Flatten\n",
    "import matplotlib.pyplot as plt\n",
    "from keras.datasets import mnist\n",
    "import numpy as np\n",
    "from tensorflow import keras"
   ]
  },
  {
   "cell_type": "code",
   "execution_count": 64,
   "metadata": {},
   "outputs": [],
   "source": [
    "(x_train, y_train), (x_test, y_test) = mnist.load_data()"
   ]
  },
  {
   "cell_type": "code",
   "execution_count": null,
   "metadata": {},
   "outputs": [],
   "source": []
  },
  {
   "cell_type": "code",
   "execution_count": 65,
   "metadata": {},
   "outputs": [
    {
     "data": {
      "text/plain": [
       "<matplotlib.image.AxesImage at 0x187bc509c30>"
      ]
     },
     "execution_count": 65,
     "metadata": {},
     "output_type": "execute_result"
    },
    {
     "data": {
      "image/png": "[encoded data removed]",
      "text/plain": [
       "<Figure size 640x480 with 1 Axes>"
      ]
     },
     "metadata": {},
     "output_type": "display_data"
    }
   ],
   "source": [
    "plt.imshow(x_train[0])"
   ]
  },
  {
   "cell_type": "code",
   "execution_count": 66,
   "metadata": {},
   "outputs": [],
   "source": [
    "x_train = x_train.reshape(60000,28,28,1)\n",
    "x_test = x_test.reshape(10000,28,28,1)"
   ]
  },
  {
   "cell_type": "code",
   "execution_count": 67,
   "metadata": {},
   "outputs": [
    {
     "data": {
      "text/plain": [
       "array([0., 0., 0., 0., 0., 1., 0., 0., 0., 0.], dtype=float32)"
      ]
     },
     "execution_count": 67,
     "metadata": {},
     "output_type": "execute_result"
    }
   ],
   "source": [
    "y_train = to_categorical(y_train)\n",
    "y_test = to_categorical(y_test)\n",
    "y_train[0]"
   ]
  },
  {
   "cell_type": "code",
   "execution_count": 73,
   "metadata": {},
   "outputs": [],
   "source": [
    "model = keras.Sequential()\n",
    "model.add(Conv2D(64, kernel_size=(3,3), activation='relu', input_shape = (28,28,1), padding='same'))\n",
    "model.add(MaxPool2D(pool_size=(2,2), strides=2))\n",
    "model.add(Conv2D(32, kernel_size=(3,3), activation='relu', padding='same'))\n",
    "model.add(MaxPool2D(pool_size=(2,2), strides=2))\n",
    "model.add(Flatten())\n",
    "model.add(Dense(10, activation='softmax'))\n"
   ]
  },
  {
   "cell_type": "code",
   "execution_count": 74,
   "metadata": {},
   "outputs": [
    {
     "name": "stdout",
     "output_type": "stream",
     "text": [
      "Model: \"sequential_8\"\n",
      "_________________________________________________________________\n",
      " Layer (type)                Output Shape              Param #   \n",
      "=================================================================\n",
      " conv2d_23 (Conv2D)          (None, 28, 28, 64)        640       \n",
      "                                                                 \n",
      " max_pooling2d_16 (MaxPoolin  (None, 14, 14, 64)       0         \n",
      " g2D)                                                            \n",
      "                                                                 \n",
      " conv2d_24 (Conv2D)          (None, 14, 14, 32)        18464     \n",
      "                                                                 \n",
      " max_pooling2d_17 (MaxPoolin  (None, 7, 7, 32)         0         \n",
      " g2D)                                                            \n",
      "                                                                 \n",
      " flatten_7 (Flatten)         (None, 1568)              0         \n",
      "                                                                 \n",
      " dense_13 (Dense)            (None, 10)                15690     \n",
      "                                                                 \n",
      "=================================================================\n",
      "Total params: 34,794\n",
      "Trainable params: 34,794\n",
      "Non-trainable params: 0\n",
      "_________________________________________________________________\n"
     ]
    }
   ],
   "source": [
    "model.compile(optimizer='adam', loss='categorical_crossentropy', metrics=['accuracy'])\n",
    "model.summary()"
   ]
  },
  {
   "cell_type": "code",
   "execution_count": 75,
   "metadata": {},
   "outputs": [
    {
     "name": "stdout",
     "output_type": "stream",
     "text": [
      "Epoch 1/3\n",
      "1875/1875 [==============================] - 37s 20ms/step - loss: 0.2710 - accuracy: 0.9465 - val_loss: 0.0697 - val_accuracy: 0.9767\n",
      "Epoch 2/3\n",
      "1875/1875 [==============================] - 41s 22ms/step - loss: 0.0736 - accuracy: 0.9791 - val_loss: 0.0521 - val_accuracy: 0.9826\n",
      "Epoch 3/3\n",
      "1875/1875 [==============================] - 42s 22ms/step - loss: 0.0546 - accuracy: 0.9840 - val_loss: 0.0533 - val_accuracy: 0.9844\n"
     ]
    },
    {
     "data": {
      "text/plain": [
       "<keras.callbacks.History at 0x187bc5ddae0>"
      ]
     },
     "execution_count": 75,
     "metadata": {},
     "output_type": "execute_result"
    }
   ],
   "source": [
    "model.fit(x_train, y_train, validation_data=(x_test, y_test), epochs= 3)"
   ]
  },
  {
   "cell_type": "code",
   "execution_count": 82,
   "metadata": {},
   "outputs": [
    {
     "name": "stdout",
     "output_type": "stream",
     "text": [
      "1/1 [==============================] - 0s 30ms/step\n"
     ]
    },
    {
     "data": {
      "text/plain": [
       "array([[7.8300448e-12, 1.3648961e-10, 2.3469167e-07, 4.7575108e-07,\n",
       "        1.2010998e-11, 8.0929324e-10, 1.9156431e-15, 9.9999857e-01,\n",
       "        1.0367681e-08, 6.5020771e-07],\n",
       "       [3.0386380e-09, 6.3111039e-10, 1.0000000e+00, 3.3837941e-12,\n",
       "        2.6554117e-13, 2.2002129e-17, 9.7550770e-12, 2.0563890e-14,\n",
       "        5.3291822e-13, 4.9307232e-15],\n",
       "       [1.3122320e-06, 9.9984860e-01, 1.2385308e-07, 4.5001033e-07,\n",
       "        8.7234796e-05, 7.8881458e-06, 2.5963495e-06, 4.2382020e-05,\n",
       "        9.3813605e-06, 7.0239153e-08],\n",
       "       [9.9997628e-01, 5.0449728e-11, 4.2417167e-08, 3.6513500e-14,\n",
       "        2.7137861e-09, 2.6555086e-11, 2.3643941e-05, 1.2099554e-11,\n",
       "        2.8324482e-10, 2.5868028e-09],\n",
       "       [8.4017689e-12, 2.3338562e-09, 1.4416274e-14, 1.1703427e-12,\n",
       "        9.9999988e-01, 7.5396377e-11, 1.0625816e-11, 1.9491199e-10,\n",
       "        3.7961283e-09, 1.7018625e-07],\n",
       "       [4.3342876e-09, 9.9987745e-01, 2.4294375e-09, 8.6504845e-11,\n",
       "        9.5614450e-05, 4.1959485e-08, 3.6392649e-08, 2.2636194e-05,\n",
       "        4.0696386e-06, 1.2540822e-07],\n",
       "       [3.0546184e-16, 1.8199717e-05, 7.0950997e-14, 1.4635076e-12,\n",
       "        9.9997890e-01, 4.3622325e-08, 2.6078214e-11, 2.3240170e-09,\n",
       "        3.7427674e-07, 2.4604626e-06],\n",
       "       [1.2494949e-08, 2.8377443e-07, 1.2679124e-06, 2.6182759e-08,\n",
       "        1.0597226e-02, 1.0689787e-03, 1.0102273e-11, 1.6112290e-07,\n",
       "        1.3430117e-03, 9.8698902e-01],\n",
       "       [1.7422725e-08, 2.5217341e-12, 2.6581039e-11, 2.2435198e-11,\n",
       "        8.6560226e-09, 9.3436974e-01, 6.5551519e-02, 1.4327843e-13,\n",
       "        7.8724297e-05, 2.7049463e-08],\n",
       "       [9.7958924e-13, 2.2986181e-12, 1.1883280e-11, 5.9434907e-10,\n",
       "        4.6874182e-05, 8.7576879e-08, 2.3178885e-12, 2.7501995e-08,\n",
       "        1.1495353e-05, 9.9994159e-01]], dtype=float32)"
      ]
     },
     "execution_count": 82,
     "metadata": {},
     "output_type": "execute_result"
    }
   ],
   "source": [
    "y_hat = model.predict(x_test[0:10])\n",
    "y_hat"
   ]
  },
  {
   "cell_type": "code",
   "execution_count": 83,
   "metadata": {},
   "outputs": [
    {
     "data": {
      "text/plain": [
       "array([7, 2, 1, 0, 4, 1, 4, 9, 5, 9], dtype=int64)"
      ]
     },
     "execution_count": 83,
     "metadata": {},
     "output_type": "execute_result"
    }
   ],
   "source": [
    "y_label = np.argmax(y_hat, axis=1)\n",
    "y_label"
   ]
  },
  {
   "cell_type": "code",
   "execution_count": 94,
   "metadata": {},
   "outputs": [
    {
     "data": {
      "text/plain": [
       "<matplotlib.image.AxesImage at 0x187d9c9a0b0>"
      ]
     },
     "execution_count": 94,
     "metadata": {},
     "output_type": "execute_result"
    },
    {
     "data": {
      "image/png": "[encoded data removed]",
      "text/plain": [
       "<Figure size 640x480 with 1 Axes>"
      ]
     },
     "metadata": {},
     "output_type": "display_data"
    }
   ],
   "source": [
    "(x_train, y_train), (x_test1, y_test) = mnist.load_data()\n",
    "plt.imshow(x_test1[9])\n"
   ]
  },
  {
   "cell_type": "code",
   "execution_count": 95,
   "metadata": {},
   "outputs": [],
   "source": [
    "model.save(\"mnist2.hdf5\")"
   ]
  }
 ],
 "metadata": {
  "kernelspec": {
   "display_name": "Python 3.10.4 64-bit",
   "language": "python",
   "name": "python3"
  },
  "language_info": {
   "codemirror_mode": {
    "name": "ipython",
    "version": 3
   },
   "file_extension": ".py",
   "mimetype": "text/x-python",
   "name": "python",
   "nbconvert_exporter": "python",
   "pygments_lexer": "ipython3",
   "version": "3.10.4"
  },
  "orig_nbformat": 4,
  "vscode": {
   "interpreter": {
    "hash": "229cdfb8eedfa4964725b7eb0da8d7a63b25d97a6ab808f09bd6b506844c0629"
   }
  }
 },
 "nbformat": 4,
 "nbformat_minor": 2
}
