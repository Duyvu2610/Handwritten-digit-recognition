{
 "cells": [
  {
   "cell_type": "code",
   "execution_count": 1,
   "metadata": {},
   "outputs": [],
   "source": [
    "from keras.utils import to_categorical\n",
    "from keras.models import Sequential\n",
    "from keras.layers import MaxPool2D, Dense, Conv2D, Flatten\n",
    "import matplotlib.pyplot as plt\n",
    "from keras.datasets import mnist\n",
    "import numpy as np\n",
    "from tensorflow import keras"
   ]
  },
  {
   "cell_type": "code",
   "execution_count": 2,
   "metadata": {},
   "outputs": [],
   "source": [
    "(x_train, y_train), (x_test, y_test) = mnist.load_data()"
   ]
  },
  {
   "cell_type": "code",
   "execution_count": 3,
   "metadata": {},
   "outputs": [],
   "source": [
    "x_train = x_train.reshape(60000,28,28,1)\n",
    "x_test = x_test.reshape(10000,28,28,1)"
   ]
  },
  {
   "cell_type": "code",
   "execution_count": 4,
   "metadata": {},
   "outputs": [
    {
     "data": {
      "text/plain": [
       "array([0., 0., 0., 0., 0., 1., 0., 0., 0., 0.], dtype=float32)"
      ]
     },
     "execution_count": 4,
     "metadata": {},
     "output_type": "execute_result"
    }
   ],
   "source": [
    "y_train = to_categorical(y_train)\n",
    "y_test = to_categorical(y_test)\n",
    "y_train[0]"
   ]
  },
  {
   "cell_type": "code",
   "execution_count": 5,
   "metadata": {},
   "outputs": [],
   "source": [
    "model = keras.Sequential()\n",
    "model.add(Conv2D(64, kernel_size=(3,3), activation='relu', input_shape = (28,28,1), padding='same'))\n",
    "model.add(MaxPool2D(pool_size=(2,2), strides=2))\n",
    "model.add(Conv2D(32, kernel_size=(3,3), activation='relu', padding='same'))\n",
    "model.add(MaxPool2D(pool_size=(2,2), strides=2))\n",
    "model.add(Flatten())\n",
    "model.add(Dense(10, activation='softmax'))\n"
   ]
  },
  {
   "cell_type": "code",
   "execution_count": 6,
   "metadata": {},
   "outputs": [
    {
     "name": "stdout",
     "output_type": "stream",
     "text": [
      "Model: \"sequential\"\n",
      "_________________________________________________________________\n",
      " Layer (type)                Output Shape              Param #   \n",
      "=================================================================\n",
      " conv2d (Conv2D)             (None, 28, 28, 64)        640       \n",
      "                                                                 \n",
      " max_pooling2d (MaxPooling2D  (None, 14, 14, 64)       0         \n",
      " )                                                               \n",
      "                                                                 \n",
      " conv2d_1 (Conv2D)           (None, 14, 14, 32)        18464     \n",
      "                                                                 \n",
      " max_pooling2d_1 (MaxPooling  (None, 7, 7, 32)         0         \n",
      " 2D)                                                             \n",
      "                                                                 \n",
      " flatten (Flatten)           (None, 1568)              0         \n",
      "                                                                 \n",
      " dense (Dense)               (None, 10)                15690     \n",
      "                                                                 \n",
      "=================================================================\n",
      "Total params: 34,794\n",
      "Trainable params: 34,794\n",
      "Non-trainable params: 0\n",
      "_________________________________________________________________\n"
     ]
    }
   ],
   "source": [
    "model.compile(optimizer='adam', loss='categorical_crossentropy', metrics=['accuracy'])\n",
    "model.summary()"
   ]
  },
  {
   "cell_type": "code",
   "execution_count": 7,
   "metadata": {},
   "outputs": [
    {
     "name": "stdout",
     "output_type": "stream",
     "text": [
      "Epoch 1/3\n",
      "1875/1875 [==============================] - 44s 23ms/step - loss: 0.3310 - accuracy: 0.9367 - val_loss: 0.0854 - val_accuracy: 0.9722\n",
      "Epoch 2/3\n",
      "1875/1875 [==============================] - 39s 21ms/step - loss: 0.0750 - accuracy: 0.9773 - val_loss: 0.0660 - val_accuracy: 0.9793\n",
      "Epoch 3/3\n",
      "1875/1875 [==============================] - 39s 21ms/step - loss: 0.0603 - accuracy: 0.9816 - val_loss: 0.0535 - val_accuracy: 0.9844\n"
     ]
    },
    {
     "data": {
      "text/plain": [
       "<keras.callbacks.History at 0x137c46b1cf0>"
      ]
     },
     "execution_count": 7,
     "metadata": {},
     "output_type": "execute_result"
    }
   ],
   "source": [
    "model.fit(x_train, y_train, validation_data=(x_test, y_test), epochs= 3)"
   ]
  },
  {
   "cell_type": "code",
   "execution_count": 8,
   "metadata": {},
   "outputs": [
    {
     "name": "stdout",
     "output_type": "stream",
     "text": [
      "1/1 [==============================] - 0s 74ms/step\n"
     ]
    },
    {
     "data": {
      "text/plain": [
       "array([[1.00000000e+00, 2.45284497e-20, 6.54063204e-09, 2.43207174e-13,\n",
       "        4.98568675e-15, 2.55436649e-13, 1.09048024e-08, 3.61620391e-12,\n",
       "        2.85115709e-09, 3.02631809e-09],\n",
       "       [3.68166653e-08, 3.33578184e-17, 2.20243305e-14, 2.71289491e-15,\n",
       "        1.75424982e-13, 2.15666068e-10, 1.00000000e+00, 9.14459282e-20,\n",
       "        1.07287269e-10, 2.13374111e-16],\n",
       "       [1.04195950e-08, 1.86623449e-14, 6.41213298e-12, 3.23907194e-08,\n",
       "        1.09752684e-04, 1.56678510e-08, 2.87346785e-10, 4.33040395e-06,\n",
       "        2.28800286e-06, 9.99883533e-01],\n",
       "       [1.00000000e+00, 8.23769578e-19, 1.57224997e-10, 1.44579664e-14,\n",
       "        6.41610314e-14, 1.33762749e-11, 2.32863275e-08, 2.06408824e-13,\n",
       "        2.12088236e-09, 1.03401865e-08],\n",
       "       [3.52025893e-08, 9.99936461e-01, 3.19341664e-09, 2.04101298e-07,\n",
       "        5.96890277e-06, 2.55040663e-06, 3.37595361e-06, 2.65120264e-07,\n",
       "        5.11098042e-05, 4.52236115e-08],\n",
       "       [6.51604828e-14, 1.16113030e-17, 8.83028473e-17, 1.28021871e-10,\n",
       "        2.75983900e-20, 1.00000000e+00, 1.29666525e-12, 1.83108465e-14,\n",
       "        6.62143673e-11, 1.15768228e-14],\n",
       "       [4.48059965e-13, 2.99066447e-18, 1.94239720e-12, 3.37835940e-11,\n",
       "        1.57783333e-08, 2.94274813e-11, 2.38543614e-13, 2.63522004e-09,\n",
       "        3.71182840e-09, 1.00000000e+00],\n",
       "       [1.59105129e-12, 2.60443821e-17, 9.59643389e-13, 3.44167139e-09,\n",
       "        9.13070685e-15, 2.68644265e-12, 9.76316066e-18, 9.99999881e-01,\n",
       "        1.72759344e-16, 6.93480970e-08],\n",
       "       [8.67839626e-05, 2.96948451e-06, 1.27631398e-02, 6.83689296e-01,\n",
       "        1.82149834e-05, 1.46604940e-01, 1.76224904e-03, 8.07820754e-07,\n",
       "        1.54993296e-01, 7.83196010e-05],\n",
       "       [2.75451971e-18, 1.96974707e-13, 3.62022856e-15, 1.80986046e-16,\n",
       "        1.00000000e+00, 4.03834691e-12, 4.31391074e-16, 2.15357887e-09,\n",
       "        2.36252701e-11, 1.76426207e-10]], dtype=float32)"
      ]
     },
     "execution_count": 8,
     "metadata": {},
     "output_type": "execute_result"
    }
   ],
   "source": [
    "y_hat = model.predict(x_test[10:20])\n",
    "y_hat"
   ]
  },
  {
   "cell_type": "code",
   "execution_count": 12,
   "metadata": {},
   "outputs": [
    {
     "data": {
      "text/plain": [
       "array([0, 6, 9, 0, 1, 5, 9, 7, 3, 4], dtype=int64)"
      ]
     },
     "execution_count": 12,
     "metadata": {},
     "output_type": "execute_result"
    }
   ],
   "source": [
    "y_label = np.argmax(y_hat, axis=1)\n",
    "y_label"
   ]
  },
  {
   "cell_type": "code",
   "execution_count": 17,
   "metadata": {},
   "outputs": [
    {
     "data": {
      "text/plain": [
       "<matplotlib.image.AxesImage at 0x137c5af6980>"
      ]
     },
     "execution_count": 17,
     "metadata": {},
     "output_type": "execute_result"
    },
    {
     "data": {
      "image/png": "[encoded data removed]",
      "text/plain": [
       "<Figure size 640x480 with 1 Axes>"
      ]
     },
     "metadata": {},
     "output_type": "display_data"
    }
   ],
   "source": [
    "(x_train, y_train), (x_test1, y_test) = mnist.load_data()\n",
    "plt.imshow(x_test1[19])\n"
   ]
  },
  {
   "cell_type": "code",
   "execution_count": 18,
   "metadata": {},
   "outputs": [],
   "source": [
    "model.save(\"mnist3.hdf5\")"
   ]
  },
  {
   "cell_type": "code",
   "execution_count": 127,
   "metadata": {},
   "outputs": [],
   "source": [
    "# import tensorflow as tf\n",
    "# img = tf.keras.utils.load_img(path=\"6.jpeg\", color_mode= 'grayscale')\n",
    "# img = tf.keras.utils.img_to_array(img)\n",
    "# plt.imshow(tf.keras.utils.array_to_img(img), cmap=\"gray\")\n",
    "# test_img = img.reshape((1, 28, 28, 1))\n",
    "# # model.predict(test_img)\n",
    "# # img_class = model.predict_classes(test_img)\n",
    "# img_class = np.argmax(model.predict(test_img), axis = 1)\n",
    "# prediction = img_class[0]\n",
    "# prediction"
   ]
  }
 ],
 "metadata": {
  "kernelspec": {
   "display_name": "Python 3.10.4 64-bit",
   "language": "python",
   "name": "python3"
  },
  "language_info": {
   "codemirror_mode": {
    "name": "ipython",
    "version": 3
   },
   "file_extension": ".py",
   "mimetype": "text/x-python",
   "name": "python",
   "nbconvert_exporter": "python",
   "pygments_lexer": "ipython3",
   "version": "3.10.4"
  },
  "orig_nbformat": 4,
  "vscode": {
   "interpreter": {
    "hash": "229cdfb8eedfa4964725b7eb0da8d7a63b25d97a6ab808f09bd6b506844c0629"
   }
  }
 },
 "nbformat": 4,
 "nbformat_minor": 2
}
